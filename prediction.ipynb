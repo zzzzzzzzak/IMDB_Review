{
 "cells": [
  {
   "cell_type": "code",
   "execution_count": 11,
   "metadata": {},
   "outputs": [],
   "source": [
    "# Step 1: Import Libraries and Load the Model\n",
    "import numpy as np\n",
    "import tensorflow as tf\n",
    "from tensorflow.keras.datasets import imdb\n",
    "from tensorflow.keras.preprocessing import sequence\n",
    "from tensorflow.keras.models import load_model"
   ]
  },
  {
   "cell_type": "code",
   "execution_count": 12,
   "metadata": {},
   "outputs": [],
   "source": [
    "\n",
    "# Load the IMDB dataset word index\n",
    "word_index = imdb.get_word_index()\n",
    "reverse_word_index = {value: key for key, value in word_index.items()}"
   ]
  },
  {
   "cell_type": "code",
   "execution_count": 13,
   "metadata": {},
   "outputs": [
    {
     "name": "stderr",
     "output_type": "stream",
     "text": [
      "WARNING:absl:Compiled the loaded model, but the compiled metrics have yet to be built. `model.compile_metrics` will be empty until you train or evaluate the model.\n"
     ]
    },
    {
     "data": {
      "text/html": [
       "<pre style=\"white-space:pre;overflow-x:auto;line-height:normal;font-family:Menlo,'DejaVu Sans Mono',consolas,'Courier New',monospace\"><span style=\"font-weight: bold\">Model: \"sequential_1\"</span>\n",
       "</pre>\n"
      ],
      "text/plain": [
       "\u001b[1mModel: \"sequential_1\"\u001b[0m\n"
      ]
     },
     "metadata": {},
     "output_type": "display_data"
    },
    {
     "data": {
      "text/html": [
       "<pre style=\"white-space:pre;overflow-x:auto;line-height:normal;font-family:Menlo,'DejaVu Sans Mono',consolas,'Courier New',monospace\">┏━━━━━━━━━━━━━━━━━━━━━━━━━━━━━━━━━┳━━━━━━━━━━━━━━━━━━━━━━━━┳━━━━━━━━━━━━━━━┓\n",
       "┃<span style=\"font-weight: bold\"> Layer (type)                    </span>┃<span style=\"font-weight: bold\"> Output Shape           </span>┃<span style=\"font-weight: bold\">       Param # </span>┃\n",
       "┡━━━━━━━━━━━━━━━━━━━━━━━━━━━━━━━━━╇━━━━━━━━━━━━━━━━━━━━━━━━╇━━━━━━━━━━━━━━━┩\n",
       "│ embedding_1 (<span style=\"color: #0087ff; text-decoration-color: #0087ff\">Embedding</span>)         │ (<span style=\"color: #00d7ff; text-decoration-color: #00d7ff\">None</span>, <span style=\"color: #00af00; text-decoration-color: #00af00\">100</span>, <span style=\"color: #00af00; text-decoration-color: #00af00\">128</span>)       │     <span style=\"color: #00af00; text-decoration-color: #00af00\">1,280,000</span> │\n",
       "├─────────────────────────────────┼────────────────────────┼───────────────┤\n",
       "│ simple_rnn_1 (<span style=\"color: #0087ff; text-decoration-color: #0087ff\">SimpleRNN</span>)        │ (<span style=\"color: #00d7ff; text-decoration-color: #00d7ff\">None</span>, <span style=\"color: #00af00; text-decoration-color: #00af00\">128</span>)            │        <span style=\"color: #00af00; text-decoration-color: #00af00\">32,896</span> │\n",
       "├─────────────────────────────────┼────────────────────────┼───────────────┤\n",
       "│ dense_1 (<span style=\"color: #0087ff; text-decoration-color: #0087ff\">Dense</span>)                 │ (<span style=\"color: #00d7ff; text-decoration-color: #00d7ff\">None</span>, <span style=\"color: #00af00; text-decoration-color: #00af00\">1</span>)              │           <span style=\"color: #00af00; text-decoration-color: #00af00\">129</span> │\n",
       "└─────────────────────────────────┴────────────────────────┴───────────────┘\n",
       "</pre>\n"
      ],
      "text/plain": [
       "┏━━━━━━━━━━━━━━━━━━━━━━━━━━━━━━━━━┳━━━━━━━━━━━━━━━━━━━━━━━━┳━━━━━━━━━━━━━━━┓\n",
       "┃\u001b[1m \u001b[0m\u001b[1mLayer (type)                   \u001b[0m\u001b[1m \u001b[0m┃\u001b[1m \u001b[0m\u001b[1mOutput Shape          \u001b[0m\u001b[1m \u001b[0m┃\u001b[1m \u001b[0m\u001b[1m      Param #\u001b[0m\u001b[1m \u001b[0m┃\n",
       "┡━━━━━━━━━━━━━━━━━━━━━━━━━━━━━━━━━╇━━━━━━━━━━━━━━━━━━━━━━━━╇━━━━━━━━━━━━━━━┩\n",
       "│ embedding_1 (\u001b[38;5;33mEmbedding\u001b[0m)         │ (\u001b[38;5;45mNone\u001b[0m, \u001b[38;5;34m100\u001b[0m, \u001b[38;5;34m128\u001b[0m)       │     \u001b[38;5;34m1,280,000\u001b[0m │\n",
       "├─────────────────────────────────┼────────────────────────┼───────────────┤\n",
       "│ simple_rnn_1 (\u001b[38;5;33mSimpleRNN\u001b[0m)        │ (\u001b[38;5;45mNone\u001b[0m, \u001b[38;5;34m128\u001b[0m)            │        \u001b[38;5;34m32,896\u001b[0m │\n",
       "├─────────────────────────────────┼────────────────────────┼───────────────┤\n",
       "│ dense_1 (\u001b[38;5;33mDense\u001b[0m)                 │ (\u001b[38;5;45mNone\u001b[0m, \u001b[38;5;34m1\u001b[0m)              │           \u001b[38;5;34m129\u001b[0m │\n",
       "└─────────────────────────────────┴────────────────────────┴───────────────┘\n"
      ]
     },
     "metadata": {},
     "output_type": "display_data"
    },
    {
     "data": {
      "text/html": [
       "<pre style=\"white-space:pre;overflow-x:auto;line-height:normal;font-family:Menlo,'DejaVu Sans Mono',consolas,'Courier New',monospace\"><span style=\"font-weight: bold\"> Total params: </span><span style=\"color: #00af00; text-decoration-color: #00af00\">1,313,027</span> (5.01 MB)\n",
       "</pre>\n"
      ],
      "text/plain": [
       "\u001b[1m Total params: \u001b[0m\u001b[38;5;34m1,313,027\u001b[0m (5.01 MB)\n"
      ]
     },
     "metadata": {},
     "output_type": "display_data"
    },
    {
     "data": {
      "text/html": [
       "<pre style=\"white-space:pre;overflow-x:auto;line-height:normal;font-family:Menlo,'DejaVu Sans Mono',consolas,'Courier New',monospace\"><span style=\"font-weight: bold\"> Trainable params: </span><span style=\"color: #00af00; text-decoration-color: #00af00\">1,313,025</span> (5.01 MB)\n",
       "</pre>\n"
      ],
      "text/plain": [
       "\u001b[1m Trainable params: \u001b[0m\u001b[38;5;34m1,313,025\u001b[0m (5.01 MB)\n"
      ]
     },
     "metadata": {},
     "output_type": "display_data"
    },
    {
     "data": {
      "text/html": [
       "<pre style=\"white-space:pre;overflow-x:auto;line-height:normal;font-family:Menlo,'DejaVu Sans Mono',consolas,'Courier New',monospace\"><span style=\"font-weight: bold\"> Non-trainable params: </span><span style=\"color: #00af00; text-decoration-color: #00af00\">0</span> (0.00 B)\n",
       "</pre>\n"
      ],
      "text/plain": [
       "\u001b[1m Non-trainable params: \u001b[0m\u001b[38;5;34m0\u001b[0m (0.00 B)\n"
      ]
     },
     "metadata": {},
     "output_type": "display_data"
    },
    {
     "data": {
      "text/html": [
       "<pre style=\"white-space:pre;overflow-x:auto;line-height:normal;font-family:Menlo,'DejaVu Sans Mono',consolas,'Courier New',monospace\"><span style=\"font-weight: bold\"> Optimizer params: </span><span style=\"color: #00af00; text-decoration-color: #00af00\">2</span> (12.00 B)\n",
       "</pre>\n"
      ],
      "text/plain": [
       "\u001b[1m Optimizer params: \u001b[0m\u001b[38;5;34m2\u001b[0m (12.00 B)\n"
      ]
     },
     "metadata": {},
     "output_type": "display_data"
    }
   ],
   "source": [
    "# Load the pre-trained model with ReLU activation\n",
    "model = load_model('simple_rnn_imdb.h5')\n",
    "model.summary()"
   ]
  },
  {
   "cell_type": "code",
   "execution_count": 14,
   "metadata": {},
   "outputs": [
    {
     "data": {
      "text/plain": [
       "[array([[-1.02515376e+00,  4.39413637e-01, -5.36420643e-01, ...,\n",
       "         -7.97863305e-01,  5.34259737e-01, -5.92611253e-01],\n",
       "        [-5.70034198e-02, -1.80969611e-02, -1.68867484e-02, ...,\n",
       "         -5.72330179e-03, -5.47200739e-02,  3.86940241e-02],\n",
       "        [-3.79384235e-02, -2.38966376e-01,  8.69426206e-02, ...,\n",
       "         -8.24595466e-02, -2.10156322e-01,  1.75487608e-01],\n",
       "        ...,\n",
       "        [-2.92012189e-02,  8.17344561e-02, -2.53260490e-02, ...,\n",
       "         -8.69996995e-02,  1.06961757e-01, -5.75742349e-02],\n",
       "        [ 8.81950185e-02, -1.63784251e-02, -7.51641870e-04, ...,\n",
       "          2.04299353e-02, -1.64525677e-02,  7.58455247e-02],\n",
       "        [-1.51365157e-02,  1.48579210e-01, -1.05232194e-01, ...,\n",
       "         -1.81525275e-02,  1.41698405e-01, -1.83218479e-01]], dtype=float32),\n",
       " array([[ 0.18481736,  0.18084866, -0.04121371, ...,  0.07970677,\n",
       "          0.06642828, -0.09210704],\n",
       "        [ 0.1401254 ,  0.11156295,  0.03377608, ...,  0.06784476,\n",
       "         -0.15423943,  0.12559861],\n",
       "        [-0.0213272 , -0.08304945,  0.00317453, ...,  0.06767171,\n",
       "         -0.12006697, -0.12950449],\n",
       "        ...,\n",
       "        [ 0.1706854 , -0.1372061 ,  0.02867869, ...,  0.01705609,\n",
       "         -0.16114259,  0.07176599],\n",
       "        [-0.01435395,  0.02371167, -0.16725586, ...,  0.08864599,\n",
       "          0.12821329,  0.04178953],\n",
       "        [-0.07708355,  0.00585303, -0.09189501, ..., -0.06660154,\n",
       "          0.03388196, -0.11035414]], dtype=float32),\n",
       " array([[-1.62977651e-01, -7.16419443e-02,  9.93664190e-02, ...,\n",
       "         -1.43864691e-01,  7.46438891e-05, -1.12510152e-01],\n",
       "        [ 1.07006922e-01, -9.81979594e-02,  2.09720254e-01, ...,\n",
       "          1.10377949e-02,  1.74069833e-02,  4.01640870e-02],\n",
       "        [ 1.11222835e-02,  3.48756090e-02, -1.01573564e-01, ...,\n",
       "         -8.99415240e-02,  5.36347479e-02, -2.10693896e-01],\n",
       "        ...,\n",
       "        [ 1.20574608e-01, -1.23569302e-01, -6.70229178e-03, ...,\n",
       "         -8.21615010e-02,  5.27733602e-02, -1.06712811e-01],\n",
       "        [ 4.62095849e-02, -1.11056283e-01,  2.75439858e-01, ...,\n",
       "         -2.16696318e-02,  4.37091701e-02, -1.75152496e-01],\n",
       "        [-3.93612869e-03,  1.06867447e-01,  1.37472183e-01, ...,\n",
       "          1.80289254e-01,  9.82240736e-02, -2.29862124e-01]], dtype=float32),\n",
       " array([-8.66524279e-02, -8.27641711e-02,  9.11742002e-02,  1.53278355e-02,\n",
       "        -2.87288222e-02, -8.53914842e-02,  2.20582448e-02,  5.30336648e-02,\n",
       "        -5.65208159e-02, -1.23594860e-02, -7.10003152e-02, -2.61497288e-03,\n",
       "        -1.14945080e-02, -4.93414178e-02, -5.47269806e-02, -4.88973979e-04,\n",
       "        -4.55578268e-02,  6.65669069e-02,  6.02670535e-02, -4.32716385e-02,\n",
       "        -4.73131277e-02, -5.82354702e-03,  5.87236769e-02,  7.02070519e-02,\n",
       "         9.29932594e-02, -4.20771725e-02, -7.56562650e-02,  8.78403336e-03,\n",
       "        -8.45340732e-03, -8.21186304e-02, -3.26513350e-02, -9.40152556e-02,\n",
       "         9.72454436e-03, -7.66900778e-02, -1.86465476e-02, -4.09645587e-02,\n",
       "         5.10377763e-03, -4.20793367e-04,  2.61516664e-02, -6.46909103e-02,\n",
       "        -7.26213530e-02,  3.45275179e-02, -6.70675933e-03, -8.45192075e-02,\n",
       "         6.00037426e-02, -6.42835051e-02, -6.08692765e-02, -1.43387336e-02,\n",
       "        -1.49607901e-02, -6.83923289e-02, -4.92713274e-03, -4.16713674e-03,\n",
       "         8.72479528e-02, -6.27683029e-02, -1.75652970e-02, -5.32831401e-02,\n",
       "         4.12838422e-02,  2.97097769e-02, -1.76350512e-02,  6.20255917e-02,\n",
       "         3.61736342e-02,  7.94492662e-02, -3.83410156e-02, -3.02766301e-02,\n",
       "        -5.50095998e-02, -1.46906320e-02,  6.14797175e-02, -4.87154387e-02,\n",
       "        -6.28072843e-02,  6.01893738e-02,  3.21086794e-02, -7.41035864e-02,\n",
       "         1.36550451e-02,  3.84108946e-02,  8.85172933e-02,  4.37761694e-02,\n",
       "         4.90523921e-03, -3.57025862e-02,  3.78648378e-03, -6.13954291e-02,\n",
       "        -5.43965679e-03, -8.02651867e-02,  3.45305284e-03, -5.95592633e-02,\n",
       "        -3.80025730e-02,  1.64870061e-02,  4.51633483e-02,  4.22900207e-02,\n",
       "        -7.46274143e-02, -3.04509960e-02,  1.44268842e-02, -8.37802142e-02,\n",
       "        -3.98579352e-02,  2.86885630e-02, -2.53887829e-05,  6.42938763e-02,\n",
       "        -5.14873788e-02,  4.59579416e-02,  9.25176442e-02, -5.19444142e-03,\n",
       "         1.51156755e-02, -3.57212219e-03, -5.11907749e-02,  4.45913933e-02,\n",
       "        -5.64525910e-02, -6.67345971e-02,  1.17949480e-02, -6.86957613e-02,\n",
       "         7.40780309e-02,  8.37230980e-02,  5.06686419e-02, -6.46374375e-02,\n",
       "        -5.88198975e-02, -4.57291193e-02, -1.89007167e-02,  2.05686130e-02,\n",
       "         1.04669169e-01, -2.23578271e-02,  3.63267176e-02, -7.71065727e-02,\n",
       "        -4.74880189e-02, -6.83418140e-02, -5.27302809e-02,  7.30418786e-03,\n",
       "         5.03374375e-02, -6.27200603e-02,  7.55993873e-02, -5.98146319e-02],\n",
       "       dtype=float32),\n",
       " array([[ 0.06028466],\n",
       "        [ 0.16505966],\n",
       "        [ 0.13373987],\n",
       "        [-0.1905494 ],\n",
       "        [ 0.20556277],\n",
       "        [ 0.12094838],\n",
       "        [ 0.07132296],\n",
       "        [ 0.7504301 ],\n",
       "        [ 0.36583015],\n",
       "        [-0.10681872],\n",
       "        [ 0.0037072 ],\n",
       "        [-0.08188839],\n",
       "        [ 0.1362168 ],\n",
       "        [ 0.08096582],\n",
       "        [-0.0727254 ],\n",
       "        [ 0.19091606],\n",
       "        [-0.01877894],\n",
       "        [ 0.02440021],\n",
       "        [ 0.12316917],\n",
       "        [ 0.01036308],\n",
       "        [ 0.25444785],\n",
       "        [-0.03953383],\n",
       "        [ 0.09061909],\n",
       "        [-0.09277148],\n",
       "        [ 0.15932631],\n",
       "        [-0.28737512],\n",
       "        [-0.00651611],\n",
       "        [-0.3491696 ],\n",
       "        [ 0.09454124],\n",
       "        [-0.11330738],\n",
       "        [-0.07474003],\n",
       "        [ 0.1518977 ],\n",
       "        [-0.02105308],\n",
       "        [-0.0953913 ],\n",
       "        [-0.08391587],\n",
       "        [ 0.11589845],\n",
       "        [-0.06289415],\n",
       "        [-0.37857938],\n",
       "        [ 0.14445244],\n",
       "        [-0.14224268],\n",
       "        [ 0.08318702],\n",
       "        [ 0.10536295],\n",
       "        [ 0.08860306],\n",
       "        [ 0.11797152],\n",
       "        [ 0.63626724],\n",
       "        [ 0.15806514],\n",
       "        [ 0.13627031],\n",
       "        [-0.03780303],\n",
       "        [-0.28932086],\n",
       "        [ 0.09158417],\n",
       "        [-0.02552708],\n",
       "        [ 0.09261739],\n",
       "        [-0.0017084 ],\n",
       "        [-0.14421903],\n",
       "        [ 0.28369087],\n",
       "        [ 0.2071459 ],\n",
       "        [ 0.12167449],\n",
       "        [-0.10705574],\n",
       "        [-0.03997041],\n",
       "        [ 0.19652997],\n",
       "        [ 0.11897386],\n",
       "        [-0.02092323],\n",
       "        [-0.12578154],\n",
       "        [-0.05548542],\n",
       "        [-0.10279623],\n",
       "        [ 0.02201881],\n",
       "        [-0.20268142],\n",
       "        [ 0.22387283],\n",
       "        [ 0.08968361],\n",
       "        [ 0.18159905],\n",
       "        [ 0.57514805],\n",
       "        [ 0.02259759],\n",
       "        [ 0.0757157 ],\n",
       "        [-0.37823883],\n",
       "        [ 0.14849095],\n",
       "        [-0.0913462 ],\n",
       "        [ 0.08435114],\n",
       "        [-0.21775775],\n",
       "        [ 0.10532825],\n",
       "        [ 0.14927651],\n",
       "        [-0.39286798],\n",
       "        [-0.13605732],\n",
       "        [ 0.2899104 ],\n",
       "        [ 0.21382244],\n",
       "        [ 0.2563832 ],\n",
       "        [-0.27528733],\n",
       "        [-0.08601645],\n",
       "        [ 0.194267  ],\n",
       "        [ 0.11854755],\n",
       "        [ 0.2173804 ],\n",
       "        [ 0.20590891],\n",
       "        [ 0.22062322],\n",
       "        [-0.20124929],\n",
       "        [ 0.30486107],\n",
       "        [ 0.01223743],\n",
       "        [-0.15256912],\n",
       "        [ 0.20396133],\n",
       "        [-0.07505293],\n",
       "        [ 0.02123041],\n",
       "        [-0.02152923],\n",
       "        [ 0.04988188],\n",
       "        [ 0.49118152],\n",
       "        [ 0.49832198],\n",
       "        [-0.07036659],\n",
       "        [ 0.2864389 ],\n",
       "        [ 0.21337406],\n",
       "        [-0.09217443],\n",
       "        [-0.22647227],\n",
       "        [-0.09370101],\n",
       "        [ 0.00178559],\n",
       "        [-0.09701147],\n",
       "        [ 0.23972067],\n",
       "        [ 0.01063763],\n",
       "        [-0.33880815],\n",
       "        [-0.3171656 ],\n",
       "        [-0.01691573],\n",
       "        [ 0.23077212],\n",
       "        [ 0.25514692],\n",
       "        [-0.01434835],\n",
       "        [ 0.12397871],\n",
       "        [ 0.07517567],\n",
       "        [-0.04087956],\n",
       "        [ 0.05452564],\n",
       "        [-0.0237749 ],\n",
       "        [ 0.01967224],\n",
       "        [ 0.21868859],\n",
       "        [ 0.10220859],\n",
       "        [ 0.05988918]], dtype=float32),\n",
       " array([0.8820063], dtype=float32)]"
      ]
     },
     "execution_count": 14,
     "metadata": {},
     "output_type": "execute_result"
    }
   ],
   "source": [
    "model.get_weights()"
   ]
  },
  {
   "cell_type": "code",
   "execution_count": 15,
   "metadata": {},
   "outputs": [],
   "source": [
    "# Step 2: Helper Functions\n",
    "# Function to decode reviews\n",
    "def decode_review(encoded_review):\n",
    "    return ' '.join([reverse_word_index.get(i - 3, '?') for i in encoded_review])\n",
    "\n",
    "# Function to preprocess user input\n",
    "def preprocess_text(text):\n",
    "    words = text.lower().split()\n",
    "    encoded_review = [word_index.get(word, 2) + 3 for word in words]\n",
    "    padded_review = sequence.pad_sequences([encoded_review], maxlen=500)\n",
    "    return padded_review"
   ]
  },
  {
   "cell_type": "code",
   "execution_count": 16,
   "metadata": {},
   "outputs": [],
   "source": [
    "### Prediction  function\n",
    "\n",
    "def predict_sentiment(review):\n",
    "    preprocessed_input=preprocess_text(review)\n",
    "\n",
    "    prediction=model.predict(preprocessed_input)\n",
    "\n",
    "    sentiment = 'Positive' if prediction[0][0] > 0.5 else 'Negative'\n",
    "    \n",
    "    return sentiment, prediction[0][0]\n",
    "\n"
   ]
  },
  {
   "cell_type": "code",
   "execution_count": 17,
   "metadata": {},
   "outputs": [
    {
     "name": "stdout",
     "output_type": "stream",
     "text": [
      "\u001b[1m1/1\u001b[0m \u001b[32m━━━━━━━━━━━━━━━━━━━━\u001b[0m\u001b[37m\u001b[0m \u001b[1m0s\u001b[0m 295ms/step\n",
      "Review: This movie was fantastic! The acting was great and the plot was thrilling.\n",
      "Sentiment: Positive\n",
      "Prediction Score: 0.808039665222168\n"
     ]
    }
   ],
   "source": [
    "# Step 4: User Input and Prediction\n",
    "# Example review for prediction\n",
    "example_review = \"This movie was fantastic! The acting was great and the plot was thrilling.\"\n",
    "\n",
    "sentiment,score=predict_sentiment(example_review)\n",
    "\n",
    "print(f'Review: {example_review}')\n",
    "print(f'Sentiment: {sentiment}')\n",
    "print(f'Prediction Score: {score}')"
   ]
  },
  {
   "cell_type": "code",
   "execution_count": null,
   "metadata": {},
   "outputs": [],
   "source": []
  },
  {
   "cell_type": "code",
   "execution_count": null,
   "metadata": {},
   "outputs": [],
   "source": []
  },
  {
   "cell_type": "code",
   "execution_count": null,
   "metadata": {},
   "outputs": [],
   "source": []
  },
  {
   "cell_type": "code",
   "execution_count": null,
   "metadata": {},
   "outputs": [],
   "source": []
  }
 ],
 "metadata": {
  "kernelspec": {
   "display_name": "venv",
   "language": "python",
   "name": "python3"
  },
  "language_info": {
   "codemirror_mode": {
    "name": "ipython",
    "version": 3
   },
   "file_extension": ".py",
   "mimetype": "text/x-python",
   "name": "python",
   "nbconvert_exporter": "python",
   "pygments_lexer": "ipython3",
   "version": "3.11.0"
  }
 },
 "nbformat": 4,
 "nbformat_minor": 2
}
